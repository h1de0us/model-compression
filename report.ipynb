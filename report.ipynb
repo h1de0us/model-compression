{
 "cells": [
  {
   "cell_type": "markdown",
   "metadata": {},
   "source": [
    "### Task 1"
   ]
  },
  {
   "cell_type": "code",
   "execution_count": 1,
   "metadata": {},
   "outputs": [],
   "source": [
    "import os\n",
    "\n",
    "os.environ[\"WANDB_API_KEY\"] = \"237521404fb5c987b268dfafcfe8446842d9965c\""
   ]
  },
  {
   "cell_type": "code",
   "execution_count": 3,
   "metadata": {},
   "outputs": [
    {
     "name": "stdout",
     "output_type": "stream",
     "text": [
      "\n",
      "\u001b[1m[\u001b[0m\u001b[34;49mnotice\u001b[0m\u001b[1;39;49m]\u001b[0m\u001b[39;49m A new release of pip is available: \u001b[0m\u001b[31;49m23.0.1\u001b[0m\u001b[39;49m -> \u001b[0m\u001b[32;49m24.0\u001b[0m\n",
      "\u001b[1m[\u001b[0m\u001b[34;49mnotice\u001b[0m\u001b[1;39;49m]\u001b[0m\u001b[39;49m To update, run: \u001b[0m\u001b[32;49mpip install --upgrade pip\u001b[0m\n"
     ]
    }
   ],
   "source": [
    "!pip install -q wandb"
   ]
  },
  {
   "cell_type": "code",
   "execution_count": 14,
   "metadata": {},
   "outputs": [
    {
     "name": "stdout",
     "output_type": "stream",
     "text": [
      "Files already downloaded and verified\n",
      "Files already downloaded and verified\n",
      "\u001b[34m\u001b[1mwandb\u001b[0m: Currently logged in as: \u001b[33mh1de0us\u001b[0m. Use \u001b[1m`wandb login --relogin`\u001b[0m to force relogin\n",
      "\u001b[34m\u001b[1mwandb\u001b[0m: Tracking run with wandb version 0.16.5\n",
      "\u001b[34m\u001b[1mwandb\u001b[0m: Run data is saved locally in \u001b[35m\u001b[1m/home/h1de0us/uni/model-compression/wandb/run-20240329_233913-siposo1j\u001b[0m\n",
      "\u001b[34m\u001b[1mwandb\u001b[0m: Run \u001b[1m`wandb offline`\u001b[0m to turn off syncing.\n",
      "\u001b[34m\u001b[1mwandb\u001b[0m: Syncing run \u001b[33mrobust-planet-11\u001b[0m\n",
      "\u001b[34m\u001b[1mwandb\u001b[0m: ⭐️ View project at \u001b[34m\u001b[4mhttps://wandb.ai/h1de0us/distillation\u001b[0m\n",
      "\u001b[34m\u001b[1mwandb\u001b[0m: 🚀 View run at \u001b[34m\u001b[4mhttps://wandb.ai/h1de0us/distillation/runs/siposo1j/workspace\u001b[0m\n",
      "Epoch: 0\n",
      "100%|█████████████████████████████████████████| 196/196 [00:28<00:00,  6.96it/s]\n",
      "100%|█████████████████████████████████████████| 196/196 [00:08<00:00, 24.08it/s]\n",
      "Epoch: 1\n",
      "100%|█████████████████████████████████████████| 196/196 [00:27<00:00,  7.12it/s]\n",
      "100%|█████████████████████████████████████████| 196/196 [00:08<00:00, 24.08it/s]\n",
      "Epoch: 2\n",
      "100%|█████████████████████████████████████████| 196/196 [00:27<00:00,  7.19it/s]\n",
      "100%|█████████████████████████████████████████| 196/196 [00:07<00:00, 25.66it/s]\n",
      "Epoch: 3\n",
      "100%|█████████████████████████████████████████| 196/196 [00:25<00:00,  7.77it/s]\n",
      "100%|█████████████████████████████████████████| 196/196 [00:07<00:00, 26.19it/s]\n",
      "Epoch: 4\n",
      "100%|█████████████████████████████████████████| 196/196 [00:25<00:00,  7.79it/s]\n",
      "100%|█████████████████████████████████████████| 196/196 [00:07<00:00, 26.19it/s]\n",
      "Finished training after 5 epochs!\n",
      "\u001b[34m\u001b[1mwandb\u001b[0m:                                                                                \n",
      "\u001b[34m\u001b[1mwandb\u001b[0m: \n",
      "\u001b[34m\u001b[1mwandb\u001b[0m: Run history:\n",
      "\u001b[34m\u001b[1mwandb\u001b[0m:  accuracy_test ▁▆███\n",
      "\u001b[34m\u001b[1mwandb\u001b[0m: accuracy_train ▁▃▅▅▆▆▆▆▇▇▇▇▇▇▇▇▇███████████████████████\n",
      "\u001b[34m\u001b[1mwandb\u001b[0m:          epoch ▁▁▁▁▁▁▁▁▃▃▃▃▃▃▃▃▅▅▅▅▅▅▅▅▆▆▆▆▆▆▆▆████████\n",
      "\u001b[34m\u001b[1mwandb\u001b[0m:     loss_train █▆▄▄▄▃▃▃▃▂▂▂▂▂▂▂▂▁▁▁▁▁▁▁▁▁▁▁▁▁▁▁▁▁▁▁▁▁▁▁\n",
      "\u001b[34m\u001b[1mwandb\u001b[0m: \n",
      "\u001b[34m\u001b[1mwandb\u001b[0m: Run summary:\n",
      "\u001b[34m\u001b[1mwandb\u001b[0m:  accuracy_test 0.98814\n",
      "\u001b[34m\u001b[1mwandb\u001b[0m: accuracy_train 0.9582\n",
      "\u001b[34m\u001b[1mwandb\u001b[0m:          epoch 4\n",
      "\u001b[34m\u001b[1mwandb\u001b[0m:     loss_train 0.11332\n",
      "\u001b[34m\u001b[1mwandb\u001b[0m: \n",
      "\u001b[34m\u001b[1mwandb\u001b[0m: 🚀 View run \u001b[33mrobust-planet-11\u001b[0m at: \u001b[34m\u001b[4mhttps://wandb.ai/h1de0us/distillation/runs/siposo1j/workspace\u001b[0m\n",
      "\u001b[34m\u001b[1mwandb\u001b[0m: Synced 5 W&B file(s), 0 media file(s), 0 artifact file(s) and 0 other file(s)\n",
      "\u001b[34m\u001b[1mwandb\u001b[0m: Find logs at: \u001b[35m\u001b[1m./wandb/run-20240329_233913-siposo1j/logs\u001b[0m\n"
     ]
    }
   ],
   "source": [
    "!python3 task01/main.py --task finetune --model_type big --batch_size 256 --checkpoint /home/h1de0us/uni/model-compression/task01/checkpoints/teacher.pt "
   ]
  },
  {
   "cell_type": "code",
   "execution_count": 15,
   "metadata": {},
   "outputs": [
    {
     "name": "stdout",
     "output_type": "stream",
     "text": [
      "Files already downloaded and verified\n",
      "Files already downloaded and verified\n",
      "\u001b[34m\u001b[1mwandb\u001b[0m: Currently logged in as: \u001b[33mh1de0us\u001b[0m. Use \u001b[1m`wandb login --relogin`\u001b[0m to force relogin\n",
      "\u001b[34m\u001b[1mwandb\u001b[0m: Tracking run with wandb version 0.16.5\n",
      "\u001b[34m\u001b[1mwandb\u001b[0m: Run data is saved locally in \u001b[35m\u001b[1m/home/h1de0us/uni/model-compression/wandb/run-20240329_234224-ylrwyr0j\u001b[0m\n",
      "\u001b[34m\u001b[1mwandb\u001b[0m: Run \u001b[1m`wandb offline`\u001b[0m to turn off syncing.\n",
      "\u001b[34m\u001b[1mwandb\u001b[0m: Syncing run \u001b[33mcerulean-sun-12\u001b[0m\n",
      "\u001b[34m\u001b[1mwandb\u001b[0m: ⭐️ View project at \u001b[34m\u001b[4mhttps://wandb.ai/h1de0us/distillation\u001b[0m\n",
      "\u001b[34m\u001b[1mwandb\u001b[0m: 🚀 View run at \u001b[34m\u001b[4mhttps://wandb.ai/h1de0us/distillation/runs/ylrwyr0j/workspace\u001b[0m\n",
      "Epoch: 0\n",
      "100%|█████████████████████████████████████████| 196/196 [00:08<00:00, 24.14it/s]\n",
      "100%|█████████████████████████████████████████| 196/196 [00:04<00:00, 40.50it/s]\n",
      "Epoch: 1\n",
      "100%|█████████████████████████████████████████| 196/196 [00:07<00:00, 26.72it/s]\n",
      "100%|█████████████████████████████████████████| 196/196 [00:04<00:00, 40.25it/s]\n",
      "Epoch: 2\n",
      "100%|█████████████████████████████████████████| 196/196 [00:07<00:00, 25.73it/s]\n",
      "100%|█████████████████████████████████████████| 196/196 [00:04<00:00, 40.59it/s]\n",
      "Epoch: 3\n",
      "100%|█████████████████████████████████████████| 196/196 [00:07<00:00, 26.62it/s]\n",
      "100%|█████████████████████████████████████████| 196/196 [00:04<00:00, 40.47it/s]\n",
      "Epoch: 4\n",
      "100%|█████████████████████████████████████████| 196/196 [00:07<00:00, 26.71it/s]\n",
      "100%|█████████████████████████████████████████| 196/196 [00:04<00:00, 40.63it/s]\n",
      "Epoch: 5\n",
      "100%|█████████████████████████████████████████| 196/196 [00:07<00:00, 26.69it/s]\n",
      "100%|█████████████████████████████████████████| 196/196 [00:04<00:00, 40.45it/s]\n",
      "Epoch: 6\n",
      "100%|█████████████████████████████████████████| 196/196 [00:07<00:00, 26.64it/s]\n",
      " 23%|█████████▊                                | 46/196 [00:01<00:03, 40.64it/s]\u001b[34m\u001b[1mwandb\u001b[0m: Network error (ConnectionError), entering retry loop.\n",
      "100%|█████████████████████████████████████████| 196/196 [00:04<00:00, 40.50it/s]\n",
      "Epoch: 7\n",
      "100%|█████████████████████████████████████████| 196/196 [00:07<00:00, 26.69it/s]\n",
      "100%|█████████████████████████████████████████| 196/196 [00:04<00:00, 40.61it/s]\n",
      "Epoch: 8\n",
      "100%|█████████████████████████████████████████| 196/196 [00:07<00:00, 26.69it/s]\n",
      "100%|█████████████████████████████████████████| 196/196 [00:04<00:00, 40.62it/s]\n",
      "Epoch: 9\n",
      "100%|█████████████████████████████████████████| 196/196 [00:07<00:00, 26.70it/s]\n",
      "100%|█████████████████████████████████████████| 196/196 [00:04<00:00, 40.58it/s]\n",
      "Epoch: 10\n",
      "100%|█████████████████████████████████████████| 196/196 [00:07<00:00, 26.71it/s]\n",
      "100%|█████████████████████████████████████████| 196/196 [00:04<00:00, 40.75it/s]\n",
      "Epoch: 11\n",
      "100%|█████████████████████████████████████████| 196/196 [00:07<00:00, 26.65it/s]\n",
      "100%|█████████████████████████████████████████| 196/196 [00:04<00:00, 40.50it/s]\n",
      "Epoch: 12\n",
      "100%|█████████████████████████████████████████| 196/196 [00:07<00:00, 26.66it/s]\n",
      "100%|█████████████████████████████████████████| 196/196 [00:04<00:00, 40.44it/s]\n",
      "Epoch: 13\n",
      "100%|█████████████████████████████████████████| 196/196 [00:07<00:00, 26.69it/s]\n",
      "100%|█████████████████████████████████████████| 196/196 [00:04<00:00, 40.69it/s]\n",
      "Finished training after 14 epochs!\n",
      "\u001b[34m\u001b[1mwandb\u001b[0m:                                                                                \n",
      "\u001b[34m\u001b[1mwandb\u001b[0m: \n",
      "\u001b[34m\u001b[1mwandb\u001b[0m: Run history:\n",
      "\u001b[34m\u001b[1mwandb\u001b[0m:  accuracy_test ▁▂▄▄▆▆▇▇██████\n",
      "\u001b[34m\u001b[1mwandb\u001b[0m: accuracy_train ▁▂▂▃▃▃▄▄▄▅▅▅▆▅▆▆▆▇▇▇▇▇▇▇▇▇██▇███████████\n",
      "\u001b[34m\u001b[1mwandb\u001b[0m:          epoch ▁▁▁▂▂▂▂▂▂▃▃▃▃▃▄▄▄▄▄▄▅▅▅▅▅▅▆▆▆▆▆▇▇▇▇▇▇███\n",
      "\u001b[34m\u001b[1mwandb\u001b[0m:     loss_train █▇▇▆▆▆▅▅▅▄▄▄▃▄▃▃▃▂▂▂▂▂▂▁▂▂▁▁▂▁▁▁▁▁▁▁▁▁▁▁\n",
      "\u001b[34m\u001b[1mwandb\u001b[0m: \n",
      "\u001b[34m\u001b[1mwandb\u001b[0m: Run summary:\n",
      "\u001b[34m\u001b[1mwandb\u001b[0m:  accuracy_test 0.95908\n",
      "\u001b[34m\u001b[1mwandb\u001b[0m: accuracy_train 0.93555\n",
      "\u001b[34m\u001b[1mwandb\u001b[0m:          epoch 13\n",
      "\u001b[34m\u001b[1mwandb\u001b[0m:     loss_train 0.17912\n",
      "\u001b[34m\u001b[1mwandb\u001b[0m: \n",
      "\u001b[34m\u001b[1mwandb\u001b[0m: 🚀 View run \u001b[33mcerulean-sun-12\u001b[0m at: \u001b[34m\u001b[4mhttps://wandb.ai/h1de0us/distillation/runs/ylrwyr0j/workspace\u001b[0m\n",
      "\u001b[34m\u001b[1mwandb\u001b[0m: Synced 5 W&B file(s), 0 media file(s), 0 artifact file(s) and 0 other file(s)\n",
      "\u001b[34m\u001b[1mwandb\u001b[0m: Find logs at: \u001b[35m\u001b[1m./wandb/run-20240329_234224-ylrwyr0j/logs\u001b[0m\n"
     ]
    }
   ],
   "source": [
    "!python3 task01/main.py --task finetune --model_type small --batch_size 256 --checkpoint /home/h1de0us/uni/model-compression/task01/checkpoints/student_data_only.pt "
   ]
  },
  {
   "cell_type": "code",
   "execution_count": 20,
   "metadata": {},
   "outputs": [],
   "source": [
    "import torch\n",
    "torch.cuda.empty_cache()"
   ]
  },
  {
   "cell_type": "code",
   "execution_count": 34,
   "metadata": {},
   "outputs": [
    {
     "name": "stdout",
     "output_type": "stream",
     "text": [
      "Files already downloaded and verified\n",
      "Files already downloaded and verified\n",
      "\u001b[34m\u001b[1mwandb\u001b[0m: Currently logged in as: \u001b[33mh1de0us\u001b[0m. Use \u001b[1m`wandb login --relogin`\u001b[0m to force relogin\n",
      "\u001b[34m\u001b[1mwandb\u001b[0m: Tracking run with wandb version 0.16.5\n",
      "\u001b[34m\u001b[1mwandb\u001b[0m: Run data is saved locally in \u001b[35m\u001b[1m/home/h1de0us/uni/model-compression/wandb/run-20240330_014930-byghry5l\u001b[0m\n",
      "\u001b[34m\u001b[1mwandb\u001b[0m: Run \u001b[1m`wandb offline`\u001b[0m to turn off syncing.\n",
      "\u001b[34m\u001b[1mwandb\u001b[0m: Syncing run \u001b[33mchocolate-leaf-26\u001b[0m\n",
      "\u001b[34m\u001b[1mwandb\u001b[0m: ⭐️ View project at \u001b[34m\u001b[4mhttps://wandb.ai/h1de0us/distillation\u001b[0m\n",
      "\u001b[34m\u001b[1mwandb\u001b[0m: 🚀 View run at \u001b[34m\u001b[4mhttps://wandb.ai/h1de0us/distillation/runs/byghry5l/workspace\u001b[0m\n",
      "Epoch: 0\n",
      "100%|█████████████████████████████████████████| 196/196 [00:17<00:00, 11.11it/s]\n",
      "100%|█████████████████████████████████████████| 196/196 [00:04<00:00, 40.76it/s]\n",
      "Epoch: 1\n",
      "100%|█████████████████████████████████████████| 196/196 [00:16<00:00, 11.63it/s]\n",
      "100%|█████████████████████████████████████████| 196/196 [00:04<00:00, 40.48it/s]\n",
      "Epoch: 2\n",
      "100%|█████████████████████████████████████████| 196/196 [00:16<00:00, 11.68it/s]\n",
      "100%|█████████████████████████████████████████| 196/196 [00:04<00:00, 40.40it/s]\n",
      "Epoch: 3\n",
      "100%|█████████████████████████████████████████| 196/196 [00:16<00:00, 11.69it/s]\n",
      "100%|█████████████████████████████████████████| 196/196 [00:04<00:00, 40.50it/s]\n",
      "Epoch: 4\n",
      "100%|█████████████████████████████████████████| 196/196 [00:16<00:00, 11.66it/s]\n",
      "100%|█████████████████████████████████████████| 196/196 [00:04<00:00, 40.51it/s]\n",
      "Epoch: 5\n",
      "100%|█████████████████████████████████████████| 196/196 [00:16<00:00, 11.70it/s]\n",
      "100%|█████████████████████████████████████████| 196/196 [00:04<00:00, 40.38it/s]\n",
      "Epoch: 6\n",
      "100%|█████████████████████████████████████████| 196/196 [00:16<00:00, 11.65it/s]\n",
      "100%|█████████████████████████████████████████| 196/196 [00:04<00:00, 40.46it/s]\n",
      "Epoch: 7\n",
      "100%|█████████████████████████████████████████| 196/196 [00:17<00:00, 11.47it/s]\n",
      "100%|█████████████████████████████████████████| 196/196 [00:04<00:00, 39.20it/s]\n",
      "Epoch: 8\n",
      "100%|█████████████████████████████████████████| 196/196 [00:17<00:00, 11.30it/s]\n",
      "100%|█████████████████████████████████████████| 196/196 [00:04<00:00, 39.95it/s]\n",
      "Epoch: 9\n",
      "100%|█████████████████████████████████████████| 196/196 [00:17<00:00, 11.41it/s]\n",
      "100%|█████████████████████████████████████████| 196/196 [00:04<00:00, 40.23it/s]\n",
      "Epoch: 10\n",
      "100%|█████████████████████████████████████████| 196/196 [00:17<00:00, 11.42it/s]\n",
      "100%|█████████████████████████████████████████| 196/196 [00:04<00:00, 40.36it/s]\n",
      "Epoch: 11\n",
      "100%|█████████████████████████████████████████| 196/196 [00:16<00:00, 11.60it/s]\n",
      "100%|█████████████████████████████████████████| 196/196 [00:04<00:00, 40.33it/s]\n",
      "Finished training after 12 epochs!\n",
      "\u001b[34m\u001b[1mwandb\u001b[0m:                                                                                \n",
      "\u001b[34m\u001b[1mwandb\u001b[0m: \n",
      "\u001b[34m\u001b[1mwandb\u001b[0m: Run history:\n",
      "\u001b[34m\u001b[1mwandb\u001b[0m:      accuracy_test ▁▃▄▅▆▇▇▇████\n",
      "\u001b[34m\u001b[1mwandb\u001b[0m:     accuracy_train ▁▂▃▃▄▄▄▅▅▅▅▆▅▅▆▆▆▇▆▆▇▇▇▇█▇▇██▇██████████\n",
      "\u001b[34m\u001b[1mwandb\u001b[0m: clasffication_loss █▇▇▆▅▆▅▄▄▄▃▄▄▄▃▃▃▂▃▃▂▂▂▁▂▂▃▂▂▂▁▁▁▁▂▁▁▁▁▁\n",
      "\u001b[34m\u001b[1mwandb\u001b[0m:  distillation_loss █▇▇▇▆▆▅▄▅▅▄▄▄▄▃▃▄▃▃▃▂▃▂▂▂▃▃▂▂▂▁▁▁▁▂▁▁▁▁▁\n",
      "\u001b[34m\u001b[1mwandb\u001b[0m:              epoch ▁▁▁▁▂▂▂▂▂▂▃▃▃▃▄▄▄▄▄▄▅▅▅▅▅▅▅▆▆▆▇▇▇▇▇▇████\n",
      "\u001b[34m\u001b[1mwandb\u001b[0m:         loss_train █▇▆▆▅▅▅▄▄▄▄▄▄▄▃▃▃▂▃▃▂▂▂▂▁▂▂▁▁▂▁▁▁▁▁▁▁▁▁▁\n",
      "\u001b[34m\u001b[1mwandb\u001b[0m: \n",
      "\u001b[34m\u001b[1mwandb\u001b[0m: Run summary:\n",
      "\u001b[34m\u001b[1mwandb\u001b[0m:      accuracy_test 0.94271\n",
      "\u001b[34m\u001b[1mwandb\u001b[0m:     accuracy_train 0.9332\n",
      "\u001b[34m\u001b[1mwandb\u001b[0m: clasffication_loss 0.16335\n",
      "\u001b[34m\u001b[1mwandb\u001b[0m:  distillation_loss 1.55953\n",
      "\u001b[34m\u001b[1mwandb\u001b[0m:              epoch 11\n",
      "\u001b[34m\u001b[1mwandb\u001b[0m:         loss_train 0.87957\n",
      "\u001b[34m\u001b[1mwandb\u001b[0m: \n",
      "\u001b[34m\u001b[1mwandb\u001b[0m: 🚀 View run \u001b[33mchocolate-leaf-26\u001b[0m at: \u001b[34m\u001b[4mhttps://wandb.ai/h1de0us/distillation/runs/byghry5l/workspace\u001b[0m\n",
      "\u001b[34m\u001b[1mwandb\u001b[0m: Synced 5 W&B file(s), 0 media file(s), 0 artifact file(s) and 0 other file(s)\n",
      "\u001b[34m\u001b[1mwandb\u001b[0m: Find logs at: \u001b[35m\u001b[1m./wandb/run-20240330_014930-byghry5l/logs\u001b[0m\n"
     ]
    }
   ],
   "source": [
    "!python3 task01/main.py --task distill --batch_size 256 --checkpoint /home/h1de0us/uni/model-compression/task01/checkpoints/teacher.pt "
   ]
  },
  {
   "cell_type": "code",
   "execution_count": 37,
   "metadata": {},
   "outputs": [
    {
     "name": "stdout",
     "output_type": "stream",
     "text": [
      "Files already downloaded and verified\n",
      "Files already downloaded and verified\n",
      "\u001b[34m\u001b[1mwandb\u001b[0m: Currently logged in as: \u001b[33mh1de0us\u001b[0m. Use \u001b[1m`wandb login --relogin`\u001b[0m to force relogin\n",
      "\u001b[34m\u001b[1mwandb\u001b[0m: Tracking run with wandb version 0.16.5\n",
      "\u001b[34m\u001b[1mwandb\u001b[0m: Run data is saved locally in \u001b[35m\u001b[1m/home/h1de0us/uni/model-compression/wandb/run-20240330_021127-8emq8s3l\u001b[0m\n",
      "\u001b[34m\u001b[1mwandb\u001b[0m: Run \u001b[1m`wandb offline`\u001b[0m to turn off syncing.\n",
      "\u001b[34m\u001b[1mwandb\u001b[0m: Syncing run \u001b[33mefficient-dragon-29\u001b[0m\n",
      "\u001b[34m\u001b[1mwandb\u001b[0m: ⭐️ View project at \u001b[34m\u001b[4mhttps://wandb.ai/h1de0us/distillation\u001b[0m\n",
      "\u001b[34m\u001b[1mwandb\u001b[0m: 🚀 View run at \u001b[34m\u001b[4mhttps://wandb.ai/h1de0us/distillation/runs/8emq8s3l/workspace\u001b[0m\n",
      "Epoch: 0\n",
      "100%|█████████████████████████████████████████| 196/196 [00:18<00:00, 10.79it/s]\n",
      "100%|█████████████████████████████████████████| 196/196 [00:04<00:00, 40.71it/s]\n",
      "Epoch: 1\n",
      "100%|█████████████████████████████████████████| 196/196 [00:17<00:00, 11.33it/s]\n",
      "100%|█████████████████████████████████████████| 196/196 [00:04<00:00, 40.65it/s]\n",
      "Epoch: 2\n",
      "100%|█████████████████████████████████████████| 196/196 [00:17<00:00, 11.32it/s]\n",
      "100%|█████████████████████████████████████████| 196/196 [00:04<00:00, 40.25it/s]\n",
      "Epoch: 3\n",
      "100%|█████████████████████████████████████████| 196/196 [00:17<00:00, 11.41it/s]\n",
      "100%|█████████████████████████████████████████| 196/196 [00:04<00:00, 40.71it/s]\n",
      "Epoch: 4\n",
      "100%|█████████████████████████████████████████| 196/196 [00:16<00:00, 11.55it/s]\n",
      "100%|█████████████████████████████████████████| 196/196 [00:04<00:00, 40.44it/s]\n",
      "Epoch: 5\n",
      "100%|█████████████████████████████████████████| 196/196 [00:16<00:00, 11.54it/s]\n",
      "100%|█████████████████████████████████████████| 196/196 [00:04<00:00, 40.14it/s]\n",
      "Epoch: 6\n",
      "100%|█████████████████████████████████████████| 196/196 [00:16<00:00, 11.58it/s]\n",
      "100%|█████████████████████████████████████████| 196/196 [00:04<00:00, 40.76it/s]\n",
      "Epoch: 7\n",
      "100%|█████████████████████████████████████████| 196/196 [00:17<00:00, 11.41it/s]\n",
      "100%|█████████████████████████████████████████| 196/196 [00:04<00:00, 40.37it/s]\n",
      "Epoch: 8\n",
      "100%|█████████████████████████████████████████| 196/196 [00:17<00:00, 11.38it/s]\n",
      "100%|█████████████████████████████████████████| 196/196 [00:04<00:00, 40.71it/s]\n",
      "Epoch: 9\n",
      "100%|█████████████████████████████████████████| 196/196 [00:17<00:00, 11.45it/s]\n",
      "100%|█████████████████████████████████████████| 196/196 [00:04<00:00, 40.33it/s]\n",
      "Epoch: 10\n",
      "100%|█████████████████████████████████████████| 196/196 [00:17<00:00, 11.38it/s]\n",
      "100%|█████████████████████████████████████████| 196/196 [00:04<00:00, 40.55it/s]\n",
      "Epoch: 11\n",
      "100%|█████████████████████████████████████████| 196/196 [00:17<00:00, 11.49it/s]\n",
      "100%|█████████████████████████████████████████| 196/196 [00:04<00:00, 40.52it/s]\n",
      "Epoch: 12\n",
      "100%|█████████████████████████████████████████| 196/196 [00:17<00:00, 11.49it/s]\n",
      "100%|█████████████████████████████████████████| 196/196 [00:04<00:00, 40.61it/s]\n",
      "Epoch: 13\n",
      "100%|█████████████████████████████████████████| 196/196 [00:17<00:00, 11.46it/s]\n",
      "100%|█████████████████████████████████████████| 196/196 [00:04<00:00, 40.48it/s]\n",
      "Epoch: 14\n",
      "100%|█████████████████████████████████████████| 196/196 [00:17<00:00, 11.33it/s]\n",
      "100%|█████████████████████████████████████████| 196/196 [00:04<00:00, 40.63it/s]\n",
      "Epoch: 15\n",
      "100%|█████████████████████████████████████████| 196/196 [00:17<00:00, 11.50it/s]\n",
      "100%|█████████████████████████████████████████| 196/196 [00:04<00:00, 40.18it/s]\n",
      "Epoch: 16\n",
      "100%|█████████████████████████████████████████| 196/196 [00:17<00:00, 11.44it/s]\n",
      "100%|█████████████████████████████████████████| 196/196 [00:04<00:00, 40.61it/s]\n",
      "Epoch: 17\n",
      "100%|█████████████████████████████████████████| 196/196 [00:17<00:00, 11.49it/s]\n",
      "100%|█████████████████████████████████████████| 196/196 [00:04<00:00, 39.97it/s]\n",
      "Finished training after 18 epochs!\n",
      "\u001b[34m\u001b[1mwandb\u001b[0m:                                                                                \n",
      "\u001b[34m\u001b[1mwandb\u001b[0m: \n",
      "\u001b[34m\u001b[1mwandb\u001b[0m: Run history:\n",
      "\u001b[34m\u001b[1mwandb\u001b[0m:      accuracy_test ▁▂▃▄▅▅▆▆▇▇▇▇▇█▇███\n",
      "\u001b[34m\u001b[1mwandb\u001b[0m:     accuracy_train ▁▂▃▄▄▄▄▅▅▆▅▆▆▇▆▆▇▇▇▇▇▇█▇▇███████████████\n",
      "\u001b[34m\u001b[1mwandb\u001b[0m: clasffication_loss █▇▆▆▅▅▅▅▄▄▄▃▃▂▄▃▂▃▂▂▂▂▁▂▂▂▂▁▂▁▁▁▂▁▁▁▁▂▁▁\n",
      "\u001b[34m\u001b[1mwandb\u001b[0m:  distillation_loss █▇▆▆▆▅▅▅▅▄▄▃▄▂▃▃▂▂▂▂▂▂▁▂▂▂▁▁▂▁▁▁▂▁▁▁▁▂▁▁\n",
      "\u001b[34m\u001b[1mwandb\u001b[0m:              epoch ▁▁▁▁▁▂▂▂▂▃▃▃▃▃▃▃▄▄▄▄▅▅▅▅▆▆▆▆▆▆▆▇▇▇▇█████\n",
      "\u001b[34m\u001b[1mwandb\u001b[0m:         loss_train █▆▅▅▄▄▄▃▃▃▃▃▃▂▂▂▂▂▂▂▂▂▂▂▂▁▁▁▁▁▁▁▁▁▁▁▁▁▁▁\n",
      "\u001b[34m\u001b[1mwandb\u001b[0m:           mse_loss █▆▅▄▄▄▃▃▃▃▃▂▂▂▂▂▂▂▂▂▂▂▂▂▁▁▂▁▁▁▁▁▁▁▁▁▁▁▁▁\n",
      "\u001b[34m\u001b[1mwandb\u001b[0m: \n",
      "\u001b[34m\u001b[1mwandb\u001b[0m: Run summary:\n",
      "\u001b[34m\u001b[1mwandb\u001b[0m:      accuracy_test 0.94744\n",
      "\u001b[34m\u001b[1mwandb\u001b[0m:     accuracy_train 0.94258\n",
      "\u001b[34m\u001b[1mwandb\u001b[0m: clasffication_loss 0.15611\n",
      "\u001b[34m\u001b[1mwandb\u001b[0m:  distillation_loss 1.56573\n",
      "\u001b[34m\u001b[1mwandb\u001b[0m:              epoch 17\n",
      "\u001b[34m\u001b[1mwandb\u001b[0m:         loss_train 1.95457\n",
      "\u001b[34m\u001b[1mwandb\u001b[0m:           mse_loss 4.13099\n",
      "\u001b[34m\u001b[1mwandb\u001b[0m: \n",
      "\u001b[34m\u001b[1mwandb\u001b[0m: 🚀 View run \u001b[33mefficient-dragon-29\u001b[0m at: \u001b[34m\u001b[4mhttps://wandb.ai/h1de0us/distillation/runs/8emq8s3l/workspace\u001b[0m\n",
      "\u001b[34m\u001b[1mwandb\u001b[0m: Synced 5 W&B file(s), 0 media file(s), 0 artifact file(s) and 0 other file(s)\n",
      "\u001b[34m\u001b[1mwandb\u001b[0m: Find logs at: \u001b[35m\u001b[1m./wandb/run-20240330_021127-8emq8s3l/logs\u001b[0m\n"
     ]
    }
   ],
   "source": [
    "!python3 task01/main.py --task distill --batch_size 256 --use_mse_during_distillation True --checkpoint /home/h1de0us/uni/model-compression/task01/checkpoints/teacher.pt "
   ]
  },
  {
   "cell_type": "markdown",
   "metadata": {},
   "source": [
    "wandb project: https://wandb.ai/h1de0us/distillation/overview"
   ]
  },
  {
   "cell_type": "markdown",
   "metadata": {},
   "source": [
    "(судя по графикам, происходит что-то странное и запуск без дистилляции > запуска с CE+MSE > запуска с CE. наверное я где-то набагала)"
   ]
  }
 ],
 "metadata": {
  "kernelspec": {
   "display_name": "efficient-dl",
   "language": "python",
   "name": "python3"
  },
  "language_info": {
   "codemirror_mode": {
    "name": "ipython",
    "version": 3
   },
   "file_extension": ".py",
   "mimetype": "text/x-python",
   "name": "python",
   "nbconvert_exporter": "python",
   "pygments_lexer": "ipython3",
   "version": "3.10.13"
  }
 },
 "nbformat": 4,
 "nbformat_minor": 2
}
